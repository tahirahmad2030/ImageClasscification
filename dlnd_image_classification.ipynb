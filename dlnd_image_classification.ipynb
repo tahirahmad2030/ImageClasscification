{
 "cells": [
  {
   "cell_type": "markdown",
   "metadata": {
    "collapsed": true
   },
   "source": [
    "# Image Classification\n",
    "In this project, you'll classify images from the [CIFAR-10 dataset](https://www.cs.toronto.edu/~kriz/cifar.html).  The dataset consists of airplanes, dogs, cats, and other objects. You'll preprocess the images, then train a convolutional neural network on all the samples. The images need to be normalized and the labels need to be one-hot encoded.  You'll get to apply what you learned and build a convolutional, max pooling, dropout, and fully connected layers.  At the end, you'll get to see your neural network's predictions on the sample images.\n",
    "## Get the Data\n",
    "Run the following cell to download the [CIFAR-10 dataset for python](https://www.cs.toronto.edu/~kriz/cifar-10-python.tar.gz)."
   ]
  },
  {
   "cell_type": "code",
   "execution_count": 15,
   "metadata": {
    "collapsed": false
   },
   "outputs": [
    {
     "name": "stdout",
     "output_type": "stream",
     "text": [
      "All files found!\n"
     ]
    }
   ],
   "source": [
    "\"\"\"\n",
    "DON'T MODIFY ANYTHING IN THIS CELL THAT IS BELOW THIS LINE\n",
    "\"\"\"\n",
    "from urllib.request import urlretrieve\n",
    "from os.path import isfile, isdir\n",
    "from tqdm import tqdm\n",
    "import problem_unittests as tests\n",
    "import tarfile\n",
    "import numpy as np \n",
    "cifar10_dataset_folder_path = 'cifar-10-batches-py'\n",
    "\n",
    "class DLProgress(tqdm):\n",
    "    last_block = 0\n",
    "\n",
    "    def hook(self, block_num=1, block_size=1, total_size=None):\n",
    "        self.total = total_size\n",
    "        self.update((block_num - self.last_block) * block_size)\n",
    "        self.last_block = block_num\n",
    "\n",
    "if not isfile('cifar-10-python.tar.gz'):\n",
    "    with DLProgress(unit='B', unit_scale=True, miniters=1, desc='CIFAR-10 Dataset') as pbar:\n",
    "        urlretrieve(\n",
    "            'https://www.cs.toronto.edu/~kriz/cifar-10-python.tar.gz',\n",
    "            'cifar-10-python.tar.gz',\n",
    "            pbar.hook)\n",
    "\n",
    "if not isdir(cifar10_dataset_folder_path):\n",
    "    with tarfile.open('cifar-10-python.tar.gz') as tar:\n",
    "        tar.extractall()\n",
    "        tar.close()\n",
    "\n",
    "\n",
    "tests.test_folder_path(cifar10_dataset_folder_path)"
   ]
  },
  {
   "cell_type": "markdown",
   "metadata": {},
   "source": [
    "## Explore the Data\n",
    "The dataset is broken into batches to prevent your machine from running out of memory.  The CIFAR-10 dataset consists of 5 batches, named `data_batch_1`, `data_batch_2`, etc.. Each batch contains the labels and images that are one of the following:\n",
    "* airplane\n",
    "* automobile\n",
    "* bird\n",
    "* cat\n",
    "* deer\n",
    "* dog\n",
    "* frog\n",
    "* horse\n",
    "* ship\n",
    "* truck\n",
    "\n",
    "Understanding a dataset is part of making predictions on the data.  Play around with the code cell below by changing the `batch_id` and `sample_id`. The `batch_id` is the id for a batch (1-5). The `sample_id` is the id for a image and label pair in the batch.\n",
    "\n",
    "Ask yourself \"What are all possible labels?\", \"What is the range of values for the image data?\", \"Are the labels in order or random?\".  Answers to questions like these will help you preprocess the data and end up with better predictions."
   ]
  },
  {
   "cell_type": "code",
   "execution_count": 16,
   "metadata": {
    "collapsed": false
   },
   "outputs": [
    {
     "name": "stdout",
     "output_type": "stream",
     "text": [
      "\n",
      "Stats of batch 2:\n",
      "Samples: 10000\n",
      "Label Counts: {0: 984, 1: 1007, 2: 1010, 3: 995, 4: 1010, 5: 988, 6: 1008, 7: 1026, 8: 987, 9: 985}\n",
      "First 20 Labels: [1, 6, 6, 8, 8, 3, 4, 6, 0, 6, 0, 3, 6, 6, 5, 4, 8, 3, 2, 6]\n",
      "\n",
      "Example of Image 5:\n",
      "Image - Min Value: 3 Max Value: 219\n",
      "Image - Shape: (32, 32, 3)\n",
      "Label - Label Id: 3 Name: cat\n"
     ]
    },
    {
     "data": {
      "image/png": "[encoded data removed]",
      "text/plain": [
       "<matplotlib.figure.Figure at 0x7f158072bd30>"
      ]
     },
     "metadata": {
      "image/png": {
       "height": 250,
       "width": 253
      }
     },
     "output_type": "display_data"
    }
   ],
   "source": [
    "%matplotlib inline\n",
    "%config InlineBackend.figure_format = 'retina'\n",
    "\n",
    "import helper\n",
    "import numpy as np\n",
    "\n",
    "# Explore the dataset\n",
    "batch_id = 2\n",
    "sample_id = 5\n",
    "helper.display_stats(cifar10_dataset_folder_path, batch_id, sample_id)"
   ]
  },
  {
   "cell_type": "markdown",
   "metadata": {},
   "source": [
    "## Implement Preprocess Functions\n",
    "### Normalize\n",
    "In the cell below, implement the `normalize` function to take in image data, `x`, and return it as a normalized Numpy array. The values should be in the range of 0 to 1, inclusive.  The return object should be the same shape as `x`."
   ]
  },
  {
   "cell_type": "code",
   "execution_count": 19,
   "metadata": {
    "collapsed": false
   },
   "outputs": [
    {
     "name": "stdout",
     "output_type": "stream",
     "text": [
      "(761, 32, 32, 3)\n",
      "Tests Passed\n"
     ]
    }
   ],
   "source": [
    "import matplotlib.pyplot as plt\n",
    "def normalize(x):\n",
    "    \"\"\"\n",
    "    Normalize a list of sample image data in the range of 0 to 1\n",
    "    : x: List of image data.  The image shape is (32, 32, 3)\n",
    "    : return: Numpy array of normalize data\n",
    "    \"\"\"\n",
    "    # TODO: Implement Function\n",
    "    x = x/255\n",
    "    #x = np.asarray(x)\n",
    "    print (x.shape)\n",
    "    #x = x.reshape(-1,32,32,3)\n",
    "   \n",
    "    return x\n",
    "\n",
    "\n",
    "\"\"\"\n",
    "DON'T MODIFY ANYTHING IN THIS CELL THAT IS BELOW THIS LINE\n",
    "\"\"\"\n",
    "tests.test_normalize(normalize)"
   ]
  },
  {
   "cell_type": "markdown",
   "metadata": {},
   "source": [
    "### One-hot encode\n",
    "Just like the previous code cell, you'll be implementing a function for preprocessing.  This time, you'll implement the `one_hot_encode` function. The input, `x`, are a list of labels.  Implement the function to return the list of labels as One-Hot encoded Numpy array.  The possible values for labels are 0 to 9. The one-hot encoding function should return the same encoding for each value between each call to `one_hot_encode`.  Make sure to save the map of encodings outside the function.\n",
    "\n",
    "Hint: Don't reinvent the wheel."
   ]
  },
  {
   "cell_type": "code",
   "execution_count": 20,
   "metadata": {
    "collapsed": false
   },
   "outputs": [
    {
     "name": "stdout",
     "output_type": "stream",
     "text": [
      "Tests Passed\n"
     ]
    }
   ],
   "source": [
    "map = [0,1,2,3,4,5,6,7,8,9]\n",
    "def one_hot_encode(x):\n",
    "    # TODO: Implement Function\n",
    "    \n",
    "    from sklearn import preprocessing\n",
    "    lb = preprocessing.LabelBinarizer()\n",
    "    lb.fit(map)\n",
    "    lb.classes_\n",
    "    \n",
    "    return lb.transform(x)\n",
    "\n",
    "\n",
    "\"\"\"\n",
    "DON'T MODIFY ANYTHING IN THIS CELL THAT IS BELOW THIS LINE\n",
    "\"\"\"\n",
    "tests.test_one_hot_encode(one_hot_encode)"
   ]
  },
  {
   "cell_type": "markdown",
   "metadata": {},
   "source": [
    "### Randomize Data\n",
    "As you saw from exploring the data above, the order of the samples are randomized.  It doesn't hurt to randomize it again, but you don't need to for this dataset."
   ]
  },
  {
   "cell_type": "markdown",
   "metadata": {},
   "source": [
    "## Preprocess all the data and save it\n",
    "Running the code cell below will preprocess all the CIFAR-10 data and save it to file. The code below also uses 10% of the training data for validation."
   ]
  },
  {
   "cell_type": "code",
   "execution_count": 21,
   "metadata": {
    "collapsed": false
   },
   "outputs": [
    {
     "name": "stdout",
     "output_type": "stream",
     "text": [
      "(9000, 32, 32, 3)\n",
      "(9000, 32, 32, 3)\n",
      "(9000, 32, 32, 3)\n",
      "(9000, 32, 32, 3)\n",
      "(9000, 32, 32, 3)\n",
      "(5000, 32, 32, 3)\n",
      "(10000, 32, 32, 3)\n"
     ]
    }
   ],
   "source": [
    "\"\"\"\n",
    "DON'T MODIFY ANYTHING IN THIS CELL\n",
    "\"\"\"\n",
    "# Preprocess Training, Validation, and Testing Data\n",
    "helper.preprocess_and_save_data(cifar10_dataset_folder_path, normalize, one_hot_encode)"
   ]
  },
  {
   "cell_type": "markdown",
   "metadata": {},
   "source": [
    "# Check Point\n",
    "This is your first checkpoint.  If you ever decide to come back to this notebook or have to restart the notebook, you can start from here.  The preprocessed data has been saved to disk."
   ]
  },
  {
   "cell_type": "code",
   "execution_count": 1,
   "metadata": {
    "collapsed": true
   },
   "outputs": [],
   "source": [
    "\"\"\"\n",
    "DON'T MODIFY ANYTHING IN THIS CELL\n",
    "\"\"\"\n",
    "import pickle\n",
    "import problem_unittests as tests\n",
    "import helper\n",
    "\n",
    "# Load the Preprocessed Validation data\n",
    "valid_features, valid_labels = pickle.load(open('preprocess_validation.p', mode='rb'))"
   ]
  },
  {
   "cell_type": "markdown",
   "metadata": {},
   "source": [
    "## Build the network\n",
    "For the neural network, you'll build each layer into a function.  Most of the code you've seen has been outside of functions. To test your code more thoroughly, we require that you put each layer in a function.  This allows us to give you better feedback and test for simple mistakes using our unittests before you submit your project.\n",
    "\n",
    ">**Note:** If you're finding it hard to dedicate enough time for this course each week, we've provided a small shortcut to this part of the project. In the next couple of problems, you'll have the option to use classes from the [TensorFlow Layers](https://www.tensorflow.org/api_docs/python/tf/layers) or [TensorFlow Layers (contrib)](https://www.tensorflow.org/api_guides/python/contrib.layers) packages to build each layer, except the layers you build in the \"Convolutional and Max Pooling Layer\" section.  TF Layers is similar to Keras's and TFLearn's abstraction to layers, so it's easy to pickup.\n",
    "\n",
    ">However, if you would like to get the most out of this course, try to solve all the problems _without_ using anything from the TF Layers packages. You **can** still use classes from other packages that happen to have the same name as ones you find in TF Layers! For example, instead of using the TF Layers version of the `conv2d` class, [tf.layers.conv2d](https://www.tensorflow.org/api_docs/python/tf/layers/conv2d), you would want to use the TF Neural Network version of `conv2d`, [tf.nn.conv2d](https://www.tensorflow.org/api_docs/python/tf/nn/conv2d). \n",
    "\n",
    "Let's begin!\n",
    "\n",
    "### Input\n",
    "The neural network needs to read the image data, one-hot encoded labels, and dropout keep probability. Implement the following functions\n",
    "* Implement `neural_net_image_input`\n",
    " * Return a [TF Placeholder](https://www.tensorflow.org/api_docs/python/tf/placeholder)\n",
    " * Set the shape using `image_shape` with batch size set to `None`.\n",
    " * Name the TensorFlow placeholder \"x\" using the TensorFlow `name` parameter in the [TF Placeholder](https://www.tensorflow.org/api_docs/python/tf/placeholder).\n",
    "* Implement `neural_net_label_input`\n",
    " * Return a [TF Placeholder](https://www.tensorflow.org/api_docs/python/tf/placeholder)\n",
    " * Set the shape using `n_classes` with batch size set to `None`.\n",
    " * Name the TensorFlow placeholder \"y\" using the TensorFlow `name` parameter in the [TF Placeholder](https://www.tensorflow.org/api_docs/python/tf/placeholder).\n",
    "* Implement `neural_net_keep_prob_input`\n",
    " * Return a [TF Placeholder](https://www.tensorflow.org/api_docs/python/tf/placeholder) for dropout keep probability.\n",
    " * Name the TensorFlow placeholder \"keep_prob\" using the TensorFlow `name` parameter in the [TF Placeholder](https://www.tensorflow.org/api_docs/python/tf/placeholder).\n",
    "\n",
    "These names will be used at the end of the project to load your saved model.\n",
    "\n",
    "Note: `None` for shapes in TensorFlow allow for a dynamic size."
   ]
  },
  {
   "cell_type": "code",
   "execution_count": 2,
   "metadata": {
    "collapsed": false
   },
   "outputs": [
    {
     "name": "stdout",
     "output_type": "stream",
     "text": [
      "Image Input Tests Passed.\n",
      "Label Input Tests Passed.\n",
      "Keep Prob Tests Passed.\n"
     ]
    }
   ],
   "source": [
    "import tensorflow as tf\n",
    "\n",
    "def neural_net_image_input(image_shape):\n",
    "    \"\"\"\n",
    "    Return a Tensor for a batch of image input\n",
    "    : image_shape: Shape of the images\n",
    "    : return: Tensor for image input.\n",
    "    \"\"\"\n",
    "    #x = tf.reshape()\n",
    "    x = tf.placeholder(tf.float32, shape=(None,32,32,3),name='x')\n",
    "    # TODO: Implement Function\n",
    "    \n",
    "    return x\n",
    "\n",
    "\n",
    "def neural_net_label_input(n_classes):\n",
    "    \"\"\"\n",
    "    Return a Tensor for a batch of label input\n",
    "    : n_classes: Number of classes\n",
    "    : return: Tensor for label input.\n",
    "    \"\"\"\n",
    "    # TODO: Implement Function\n",
    "    y = tf.placeholder(tf.float32, shape=(None,n_classes), name='y')\n",
    "    return  y\n",
    "\n",
    "\n",
    "def neural_net_keep_prob_input():\n",
    "    \"\"\"\n",
    "    Return a Tensor for keep probability\n",
    "    : return: Tensor for keep probability.\n",
    "    \"\"\"\n",
    "    # TODO: Implement Function\n",
    "    keep_prob = tf.placeholder(tf.float32, name='keep_prob')\n",
    "    return keep_prob\n",
    "\n",
    "\n",
    "\"\"\"\n",
    "DON'T MODIFY ANYTHING IN THIS CELL THAT IS BELOW THIS LINE\n",
    "\"\"\"\n",
    "tf.reset_default_graph()\n",
    "tests.test_nn_image_inputs(neural_net_image_input)\n",
    "tests.test_nn_label_inputs(neural_net_label_input)\n",
    "tests.test_nn_keep_prob_inputs(neural_net_keep_prob_input)"
   ]
  },
  {
   "cell_type": "markdown",
   "metadata": {},
   "source": [
    "### Convolution and Max Pooling Layer\n",
    "Convolution layers have a lot of success with images. For this code cell, you should implement the function `conv2d_maxpool` to apply convolution then max pooling:\n",
    "* Create the weight and bias using `conv_ksize`, `conv_num_outputs` and the shape of `x_tensor`.\n",
    "* Apply a convolution to `x_tensor` using weight and `conv_strides`.\n",
    " * We recommend you use same padding, but you're welcome to use any padding.\n",
    "* Add bias\n",
    "* Add a nonlinear activation to the convolution.\n",
    "* Apply Max Pooling using `pool_ksize` and `pool_strides`.\n",
    " * We recommend you use same padding, but you're welcome to use any padding.\n",
    "\n",
    "**Note:** You **can't** use [TensorFlow Layers](https://www.tensorflow.org/api_docs/python/tf/layers) or [TensorFlow Layers (contrib)](https://www.tensorflow.org/api_guides/python/contrib.layers) for **this** layer, but you can still use TensorFlow's [Neural Network](https://www.tensorflow.org/api_docs/python/tf/nn) package. You may still use the shortcut option for all the **other** layers."
   ]
  },
  {
   "cell_type": "code",
   "execution_count": 3,
   "metadata": {
    "collapsed": false
   },
   "outputs": [
    {
     "name": "stdout",
     "output_type": "stream",
     "text": [
      "(2, 2)\n",
      "Tensor(\"Variable/read:0\", shape=(2, 2, 5, 10), dtype=float32)\n",
      "Tensor(\"MaxPool:0\", shape=(?, 4, 4, 10), dtype=float32)\n",
      "Tests Passed\n"
     ]
    }
   ],
   "source": [
    "def conv2d_maxpool(x_tensor, conv_num_outputs, conv_ksize, conv_strides, pool_ksize, pool_strides):\n",
    "    \"\"\"\n",
    "    Apply convolution then max pooling to x_tensor\n",
    "    :param x_tensor: TensorFlow Tensor\n",
    "    :param conv_num_outputs: Number of outputs for the convolutional layer\n",
    "    :param conv_ksize: kernal size 2-D Tuple for the convolutional layer\n",
    "    :param conv_strides: Stride 2-D Tuple for convolution\n",
    "    :param pool_ksize: kernal size 2-D Tuple for pool\n",
    "    :param pool_strides: Stride 2-D Tuple for pool\n",
    "    : return: A tensor that represents convolution and max pooling of x_tensor\n",
    "    \"\"\"\n",
    "    # TODO: Implement Function\n",
    "    print (conv_ksize)\n",
    "    weight = tf.Variable(tf.truncated_normal([conv_ksize[0], conv_ksize[1],tf.to_int32(x_tensor.shape[3]),conv_num_outputs])) \n",
    "    print(weight)\n",
    "    bias = tf.Variable(tf.truncated_normal([conv_num_outputs]))\n",
    "    conv_layer = tf.nn.conv2d(x_tensor, weight, strides=[1, conv_strides[0], conv_strides[1], 1], padding='VALID')\n",
    "    conv_layer = tf.nn.bias_add(conv_layer, bias)\n",
    "    #conv_layer = tf.nn.relu(conv_layer)\n",
    "    # Apply Max Pooling\n",
    "    conv_layer = tf.nn.max_pool(conv_layer, ksize=[1, pool_ksize[0], pool_ksize[1], 1], strides=[1, pool_strides[0], pool_strides[1], 1],\n",
    "        padding='VALID')\n",
    "    print(conv_layer)\n",
    "    \n",
    "    return conv_layer\n",
    "\n",
    "\n",
    "\n",
    "\"\"\"\n",
    "DON'T MODIFY ANYTHING IN THIS CELL THAT IS BELOW THIS LINE\n",
    "\"\"\"\n",
    "tests.test_con_pool(conv2d_maxpool)"
   ]
  },
  {
   "cell_type": "markdown",
   "metadata": {},
   "source": [
    "### Flatten Layer\n",
    "Implement the `flatten` function to change the dimension of `x_tensor` from a 4-D tensor to a 2-D tensor.  The output should be the shape (*Batch Size*, *Flattened Image Size*). Shortcut option: you can use classes from the [TensorFlow Layers](https://www.tensorflow.org/api_docs/python/tf/layers) or [TensorFlow Layers (contrib)](https://www.tensorflow.org/api_guides/python/contrib.layers) packages for this layer. For more of a challenge, only use other TensorFlow packages."
   ]
  },
  {
   "cell_type": "code",
   "execution_count": 4,
   "metadata": {
    "collapsed": false
   },
   "outputs": [
    {
     "name": "stdout",
     "output_type": "stream",
     "text": [
      "Tests Passed\n"
     ]
    }
   ],
   "source": [
    "\n",
    "def flatten(x_tensor):\n",
    "    \"\"\"\n",
    "    Flatten x_tensor to (Batch Size, Flattened Image Size)\n",
    "    : x_tensor: A tensor of size (Batch Size, ...), where ... are the image dimensions.\n",
    "    : return: A tensor of size (Batch Size, Flattened Image Size).\n",
    "    \"\"\"\n",
    "\n",
    "    # TODO: Implement Function\n",
    "   \n",
    "    #shape = x_tensor.get_shape().as_list()\n",
    "    #reshape = tf.reshape(x_tensor, [ -1, int(shape[1])*int(shape[2])*int(shape[3]) ])\n",
    "    return  tf.contrib.layers.flatten(x_tensor)\n",
    "\"\"\"\n",
    "DON'T MODIFY ANYTHING IN THIS CELL THAT IS BELOW THIS LINE\n",
    "\"\"\"\n",
    "tests.test_flatten(flatten)"
   ]
  },
  {
   "cell_type": "markdown",
   "metadata": {},
   "source": [
    "### Fully-Connected Layer\n",
    "Implement the `fully_conn` function to apply a fully connected layer to `x_tensor` with the shape (*Batch Size*, *num_outputs*). Shortcut option: you can use classes from the [TensorFlow Layers](https://www.tensorflow.org/api_docs/python/tf/layers) or [TensorFlow Layers (contrib)](https://www.tensorflow.org/api_guides/python/contrib.layers) packages for this layer. For more of a challenge, only use other TensorFlow packages."
   ]
  },
  {
   "cell_type": "code",
   "execution_count": 5,
   "metadata": {
    "collapsed": false
   },
   "outputs": [
    {
     "name": "stdout",
     "output_type": "stream",
     "text": [
      "Tests Passed\n"
     ]
    }
   ],
   "source": [
    "def fully_conn(x_tensor, num_outputs):\n",
    "    \"\"\"\n",
    "    Apply a fully connected layer to x_tensor using weight and bias\n",
    "    : x_tensor: A 2-D tensor where the first dimension is batch size.\n",
    "    : num_outputs: The number of output that the new tensor should be.\n",
    "    : return: A 2-D tensor where the second dimension is num_outputs.\n",
    "    \"\"\"\n",
    "    # TODO: Implement Function\n",
    "    weight = tf.Variable(tf.random_normal((int(x_tensor.shape[1]), num_outputs)))\n",
    "    bias = tf.Variable(tf.zeros(num_outputs))\n",
    "    result_mul = tf.add(tf.matmul(x_tensor, weight), bias)\n",
    "    output = tf.nn.relu(result_mul)\n",
    "    return output\n",
    "\n",
    "    #return tf.contrib.layers.fully_connected(x_tensor, num_outputs)\n",
    "\n",
    "\n",
    "\"\"\"\n",
    "DON'T MODIFY ANYTHING IN THIS CELL THAT IS BELOW THIS LINE\n",
    "\"\"\"\n",
    "tests.test_fully_conn(fully_conn)"
   ]
  },
  {
   "cell_type": "markdown",
   "metadata": {},
   "source": [
    "### Output Layer\n",
    "Implement the `output` function to apply a fully connected layer to `x_tensor` with the shape (*Batch Size*, *num_outputs*). Shortcut option: you can use classes from the [TensorFlow Layers](https://www.tensorflow.org/api_docs/python/tf/layers) or [TensorFlow Layers (contrib)](https://www.tensorflow.org/api_guides/python/contrib.layers) packages for this layer. For more of a challenge, only use other TensorFlow packages.\n",
    "\n",
    "**Note:** Activation, softmax, or cross entropy should **not** be applied to this."
   ]
  },
  {
   "cell_type": "code",
   "execution_count": 6,
   "metadata": {
    "collapsed": false
   },
   "outputs": [
    {
     "name": "stdout",
     "output_type": "stream",
     "text": [
      "Tests Passed\n"
     ]
    }
   ],
   "source": [
    "def output(x_tensor, num_outputs):\n",
    "    \"\"\"\n",
    "    Apply a output layer to x_tensor using weight and bias\n",
    "    : x_tensor: A 2-D tensor where the first dimension is batch size.\n",
    "    : num_outputs: The number of output that the new tensor should be.\n",
    "    : return: A 2-D tensor where the second dimension is num_outputs.\n",
    "    \"\"\"\n",
    "    # TODO: Implement Function\n",
    "    # print(num_outputs)\n",
    "    weight = tf.Variable(tf.random_normal((int(x_tensor.shape[1]), num_outputs)))\n",
    "    bias = tf.Variable(tf.zeros(num_outputs))\n",
    "    output = tf.add(tf.matmul(x_tensor, weight), bias)\n",
    "    return output\n",
    "    #return tf.contrib.layers.fully_connected(x_tensor, num_outputs)\n",
    "\n",
    "\n",
    "\"\"\"\n",
    "DON'T MODIFY ANYTHING IN THIS CELL THAT IS BELOW THIS LINE\n",
    "\"\"\"\n",
    "tests.test_output(output)"
   ]
  },
  {
   "cell_type": "markdown",
   "metadata": {},
   "source": [
    "### Create Convolutional Model\n",
    "Implement the function `conv_net` to create a convolutional neural network model. The function takes in a batch of images, `x`, and outputs logits.  Use the layers you created above to create this model:\n",
    "\n",
    "* Apply 1, 2, or 3 Convolution and Max Pool layers\n",
    "* Apply a Flatten Layer\n",
    "* Apply 1, 2, or 3 Fully Connected Layers\n",
    "* Apply an Output Layer\n",
    "* Return the output\n",
    "* Apply [TensorFlow's Dropout](https://www.tensorflow.org/api_docs/python/tf/nn/dropout) to one or more layers in the model using `keep_prob`. "
   ]
  },
  {
   "cell_type": "code",
   "execution_count": 8,
   "metadata": {
    "collapsed": false
   },
   "outputs": [
    {
     "name": "stdout",
     "output_type": "stream",
     "text": [
      "(3, 3)\n",
      "Tensor(\"Variable/read:0\", shape=(3, 3, 3, 24), dtype=float32)\n",
      "Tensor(\"MaxPool:0\", shape=(?, 15, 15, 24), dtype=float32)\n",
      "(3, 3)\n",
      "Tensor(\"Variable_2/read:0\", shape=(3, 3, 24, 32), dtype=float32)\n",
      "Tensor(\"MaxPool_1:0\", shape=(?, 6, 6, 32), dtype=float32)\n",
      "(3, 3)\n",
      "Tensor(\"Variable_4/read:0\", shape=(3, 3, 32, 48), dtype=float32)\n",
      "Tensor(\"MaxPool_2:0\", shape=(?, 2, 2, 48), dtype=float32)\n",
      "(3, 3)\n",
      "Tensor(\"Variable_14/read:0\", shape=(3, 3, 3, 24), dtype=float32)\n",
      "Tensor(\"MaxPool_3:0\", shape=(?, 15, 15, 24), dtype=float32)\n",
      "(3, 3)\n",
      "Tensor(\"Variable_16/read:0\", shape=(3, 3, 24, 32), dtype=float32)\n",
      "Tensor(\"MaxPool_4:0\", shape=(?, 6, 6, 32), dtype=float32)\n",
      "(3, 3)\n",
      "Tensor(\"Variable_18/read:0\", shape=(3, 3, 32, 48), dtype=float32)\n",
      "Tensor(\"MaxPool_5:0\", shape=(?, 2, 2, 48), dtype=float32)\n",
      "Neural Network Built!\n"
     ]
    }
   ],
   "source": [
    "def conv_net(x, keep_prob):\n",
    "    \"\"\"\n",
    "    Create a convolutional neural network model\n",
    "    : x: Placeholder tensor that holds image data.\n",
    "    : keep_prob: Placeholder tensor that hold dropout keep probability.\n",
    "    : return: Tensor that represents logits\n",
    "    \"\"\"\n",
    "    # TODO: Apply 1, 2, or 3 Convolution and Max Pool layers\n",
    "    #    Play around with different number of outputs, kernel size and stride\n",
    "    # Function Definition from Above:\n",
    "    #conv2d_maxpool(x, 2, conv_ksize, conv_strides, pool_ksize, pool_strides)\n",
    "    conv1= conv2d_maxpool(x,24,(3,3),(1,1),(2,2),(2,2))\n",
    "    conv2= conv2d_maxpool(conv1,32,(3,3),(1,1),(2,2),(2,2))\n",
    "    conv3= conv2d_maxpool(conv2,48,(3,3),(1,1),(2,2),(2,2))\n",
    "\n",
    "    # TODO: Apply a Flatten Layer\n",
    "    # Function Definition from Above:\n",
    "    # flatten(x_tensor)\n",
    "    flatten_layer=flatten(conv2)\n",
    "    fc1=fully_conn(flatten_layer, 4096)\n",
    "    fc1=tf.nn.dropout(fc1,keep_prob)\n",
    "    fc2=fully_conn(fc1, 2048)\n",
    "    fc2=tf.nn.dropout(fc2,keep_prob)\n",
    "    fc3=fully_conn(fc2,1024)\n",
    "    fc3=tf.nn.dropout(fc3,keep_prob)\n",
    "    # TODO: Apply 1, 2, or 3 Fully Connected Layers\n",
    "    #    Play around with different number of outputs\n",
    "    # Function Definition from Above:\n",
    "    #fully_conn(x_tensor, num_outputs)\n",
    "    \n",
    "    \n",
    "    # TODO: Apply an Output Layer\n",
    "    #    Set this to the number of classes\n",
    "    # Function Definition from Above:\n",
    "    # output = output(x_tensor, num_outputs)\n",
    "    out=output(fc3,10)\n",
    "    \n",
    "    # TODO: return output\n",
    "    return out\n",
    "\n",
    "\n",
    "\"\"\"\n",
    "DON'T MODIFY ANYTHING IN THIS CELL THAT IS BELOW THIS LINE\n",
    "\"\"\"\n",
    "\n",
    "##############################\n",
    "## Build the Neural Network ##\n",
    "##############################\n",
    "\n",
    "# Remove previous weights, bias, inputs, etc..\n",
    "tf.reset_default_graph()\n",
    "\n",
    "# Inputs\n",
    "x = neural_net_image_input((32, 32, 3))\n",
    "y = neural_net_label_input(10)\n",
    "keep_prob = neural_net_keep_prob_input()\n",
    "\n",
    "# Model\n",
    "logits = conv_net(x, keep_prob)\n",
    "\n",
    "# Name logits Tensor, so that is can be loaded from disk after training\n",
    "logits = tf.identity(logits, name='logits')\n",
    "\n",
    "# Loss and Optimizer\n",
    "cost = tf.reduce_mean(tf.nn.softmax_cross_entropy_with_logits(logits=logits, labels=y))\n",
    "optimizer = tf.train.AdamOptimizer().minimize(cost)\n",
    "\n",
    "# Accuracy\n",
    "correct_pred = tf.equal(tf.argmax(logits, 1), tf.argmax(y, 1))\n",
    "accuracy = tf.reduce_mean(tf.cast(correct_pred, tf.float32), name='accuracy')\n",
    "\n",
    "tests.test_conv_net(conv_net)"
   ]
  },
  {
   "cell_type": "markdown",
   "metadata": {},
   "source": [
    "## Train the Neural Network\n",
    "### Single Optimization\n",
    "Implement the function `train_neural_network` to do a single optimization.  The optimization should use `optimizer` to optimize in `session` with a `feed_dict` of the following:\n",
    "* `x` for image input\n",
    "* `y` for labels\n",
    "* `keep_prob` for keep probability for dropout\n",
    "\n",
    "This function will be called for each batch, so `tf.global_variables_initializer()` has already been called.\n",
    "\n",
    "Note: Nothing needs to be returned. This function is only optimizing the neural network."
   ]
  },
  {
   "cell_type": "code",
   "execution_count": 9,
   "metadata": {
    "collapsed": false
   },
   "outputs": [
    {
     "name": "stdout",
     "output_type": "stream",
     "text": [
      "Tests Passed\n"
     ]
    }
   ],
   "source": [
    "def train_neural_network(session, optimizer, keep_probability, feature_batch, label_batch):\n",
    "    \"\"\"\n",
    "    Optimize the session on a batch of images and labels\n",
    "    : session: Current TensorFlow session\n",
    "    : optimizer: TensorFlow optimizer function\n",
    "    : keep_probability: keep probability\n",
    "    : feature_batch: Batch of Numpy image data\n",
    "    : label_batch: Batch of Numpy label data\n",
    "    \"\"\"\n",
    "    # TODO: Implement Function\n",
    "    session.run(optimizer, feed_dict={x: feature_batch, y: label_batch, keep_prob: keep_probability})\n",
    "    pass\n",
    "\n",
    "\n",
    "\"\"\"\n",
    "DON'T MODIFY ANYTHING IN THIS CELL THAT IS BELOW THIS LINE\n",
    "\"\"\"\n",
    "tests.test_train_nn(train_neural_network)"
   ]
  },
  {
   "cell_type": "markdown",
   "metadata": {},
   "source": [
    "### Show Stats\n",
    "Implement the function `print_stats` to print loss and validation accuracy.  Use the global variables `valid_features` and `valid_labels` to calculate validation accuracy.  Use a keep probability of `1.0` to calculate the loss and validation accuracy."
   ]
  },
  {
   "cell_type": "code",
   "execution_count": 10,
   "metadata": {
    "collapsed": false
   },
   "outputs": [],
   "source": [
    "def print_stats(session, feature_batch, label_batch, cost, accuracy):\n",
    "    \"\"\"\n",
    "    Print information about loss and validation accuracy\n",
    "    : session: Current TensorFlow session\n",
    "    : feature_batch: Batch of Numpy image data\n",
    "    : label_batch: Batch of Numpy label data\n",
    "    : cost: TensorFlow cost function\n",
    "    : accuracy: TensorFlow accuracy function\n",
    "    \"\"\"\n",
    "    test_acc = session.run(accuracy, feed_dict={\n",
    "        x: feature_batch,\n",
    "        y: label_batch,\n",
    "        keep_prob: 1.0})\n",
    "    print('Validation Accuracy: {}'.format(test_acc))\n",
    "    loss = sess.run(cost, feed_dict={\n",
    "                x: feature_batch,\n",
    "                y: label_batch,\n",
    "                keep_prob: 1.0})\n",
    "    print('Loss: {}'.format(loss))\n",
    "    pass"
   ]
  },
  {
   "cell_type": "markdown",
   "metadata": {},
   "source": [
    "### Hyperparameters\n",
    "Tune the following parameters:\n",
    "* Set `epochs` to the number of iterations until the network stops learning or start overfitting\n",
    "* Set `batch_size` to the highest number that your machine has memory for.  Most people set them to common sizes of memory:\n",
    " * 64\n",
    " * 128\n",
    " * 256\n",
    " * ...\n",
    "* Set `keep_probability` to the probability of keeping a node using dropout"
   ]
  },
  {
   "cell_type": "code",
   "execution_count": 11,
   "metadata": {
    "collapsed": true
   },
   "outputs": [],
   "source": [
    "# TODO: Tune Parameters\n",
    "epochs = 30\n",
    "batch_size = 512\n",
    "keep_probability = 1."
   ]
  },
  {
   "cell_type": "markdown",
   "metadata": {},
   "source": [
    "### Train on a Single CIFAR-10 Batch\n",
    "Instead of training the neural network on all the CIFAR-10 batches of data, let's use a single batch. This should save time while you iterate on the model to get a better accuracy.  Once the final validation accuracy is 50% or greater, run the model on all the data in the next section."
   ]
  },
  {
   "cell_type": "code",
   "execution_count": 12,
   "metadata": {
    "collapsed": false
   },
   "outputs": [
    {
     "name": "stdout",
     "output_type": "stream",
     "text": [
      "Checking the Training on a Single Batch...\n",
      "Epoch  1, CIFAR-10 Batch 1:  Validation Accuracy: 0.25337839126586914\n",
      "Loss: 9630882.0\n",
      "Epoch  2, CIFAR-10 Batch 1:  Validation Accuracy: 0.33445945382118225\n",
      "Loss: 4855384.0\n",
      "Epoch  3, CIFAR-10 Batch 1:  Validation Accuracy: 0.4425675570964813\n",
      "Loss: 3093325.75\n",
      "Epoch  4, CIFAR-10 Batch 1:  Validation Accuracy: 0.4797297418117523\n",
      "Loss: 2138057.75\n",
      "Epoch  5, CIFAR-10 Batch 1:  Validation Accuracy: 0.5506756901741028\n",
      "Loss: 1555843.875\n",
      "Epoch  6, CIFAR-10 Batch 1:  Validation Accuracy: 0.6081081032752991\n",
      "Loss: 1152292.375\n",
      "Epoch  7, CIFAR-10 Batch 1:  Validation Accuracy: 0.6925675868988037\n",
      "Loss: 905470.4375\n",
      "Epoch  8, CIFAR-10 Batch 1:  Validation Accuracy: 0.6891891956329346\n",
      "Loss: 1010474.5\n",
      "Epoch  9, CIFAR-10 Batch 1:  Validation Accuracy: 0.6385135054588318\n",
      "Loss: 1000614.25\n",
      "Epoch 10, CIFAR-10 Batch 1:  Validation Accuracy: 0.7162162065505981\n",
      "Loss: 672845.8125\n",
      "Epoch 11, CIFAR-10 Batch 1:  Validation Accuracy: 0.6554054021835327\n",
      "Loss: 799496.1875\n",
      "Epoch 12, CIFAR-10 Batch 1:  Validation Accuracy: 0.6858108043670654\n",
      "Loss: 752770.5625\n",
      "Epoch 13, CIFAR-10 Batch 1:  Validation Accuracy: 0.6655405163764954\n",
      "Loss: 800574.125\n",
      "Epoch 14, CIFAR-10 Batch 1:  Validation Accuracy: 0.75\n",
      "Loss: 485683.46875\n",
      "Epoch 15, CIFAR-10 Batch 1:  Validation Accuracy: 0.8648648858070374\n",
      "Loss: 262699.59375\n",
      "Epoch 16, CIFAR-10 Batch 1:  Validation Accuracy: 0.8716216087341309\n",
      "Loss: 259170.15625\n",
      "Epoch 17, CIFAR-10 Batch 1:  Validation Accuracy: 0.75\n",
      "Loss: 444963.59375\n",
      "Epoch 18, CIFAR-10 Batch 1:  Validation Accuracy: 0.8682432174682617\n",
      "Loss: 177502.640625\n",
      "Epoch 19, CIFAR-10 Batch 1:  Validation Accuracy: 0.7837837934494019\n",
      "Loss: 462153.5\n",
      "Epoch 20, CIFAR-10 Batch 1:  Validation Accuracy: 0.912162184715271\n",
      "Loss: 113313.296875\n",
      "Epoch 21, CIFAR-10 Batch 1:  Validation Accuracy: 0.9594594836235046\n",
      "Loss: 37099.0625\n",
      "Epoch 22, CIFAR-10 Batch 1:  Validation Accuracy: 0.9391891956329346\n",
      "Loss: 60178.87890625\n",
      "Epoch 23, CIFAR-10 Batch 1:  Validation Accuracy: 0.8513513803482056\n",
      "Loss: 148017.9375\n",
      "Epoch 24, CIFAR-10 Batch 1:  Validation Accuracy: 0.9425675868988037\n",
      "Loss: 34997.28125\n",
      "Epoch 25, CIFAR-10 Batch 1:  Validation Accuracy: 0.962837815284729\n",
      "Loss: 22130.005859375\n",
      "Epoch 26, CIFAR-10 Batch 1:  Validation Accuracy: 0.9189189076423645\n",
      "Loss: 62146.1015625\n",
      "Epoch 27, CIFAR-10 Batch 1:  Validation Accuracy: 0.8614864945411682\n",
      "Loss: 124030.5546875\n",
      "Epoch 28, CIFAR-10 Batch 1:  Validation Accuracy: 0.9189189076423645\n",
      "Loss: 71584.109375\n",
      "Epoch 29, CIFAR-10 Batch 1:  Validation Accuracy: 0.8581081032752991\n",
      "Loss: 136280.25\n",
      "Epoch 30, CIFAR-10 Batch 1:  Validation Accuracy: 0.9797297120094299\n",
      "Loss: 10063.654296875\n"
     ]
    }
   ],
   "source": [
    "\"\"\"\n",
    "DON'T MODIFY ANYTHING IN THIS CELL\n",
    "\"\"\"\n",
    "print('Checking the Training on a Single Batch...')\n",
    "with tf.Session() as sess:\n",
    "    # Initializing the variables\n",
    "    sess.run(tf.global_variables_initializer())\n",
    "    \n",
    "    # Training cycle\n",
    "    for epoch in range(epochs):\n",
    "        batch_i = 1\n",
    "        for batch_features, batch_labels in helper.load_preprocess_training_batch(batch_i, batch_size):\n",
    "            train_neural_network(sess, optimizer, keep_probability, batch_features, batch_labels)\n",
    "        print('Epoch {:>2}, CIFAR-10 Batch {}:  '.format(epoch + 1, batch_i), end='')\n",
    "        print_stats(sess, batch_features, batch_labels, cost, accuracy)"
   ]
  },
  {
   "cell_type": "markdown",
   "metadata": {},
   "source": [
    "### Fully Train the Model\n",
    "Now that you got a good accuracy with a single CIFAR-10 batch, try it with all five batches."
   ]
  },
  {
   "cell_type": "code",
   "execution_count": 13,
   "metadata": {
    "collapsed": false
   },
   "outputs": [
    {
     "name": "stdout",
     "output_type": "stream",
     "text": [
      "Training...\n",
      "Epoch  1, CIFAR-10 Batch 1:  Validation Accuracy: 0.20945945382118225\n",
      "Loss: 14349954.0\n",
      "Epoch  1, CIFAR-10 Batch 2:  Validation Accuracy: 0.29729729890823364\n",
      "Loss: 6053456.5\n",
      "Epoch  1, CIFAR-10 Batch 3:  Validation Accuracy: 0.36486485600471497\n",
      "Loss: 4511472.0\n",
      "Epoch  1, CIFAR-10 Batch 4:  Validation Accuracy: 0.33445945382118225\n",
      "Loss: 4392059.5\n",
      "Epoch  1, CIFAR-10 Batch 5:  Validation Accuracy: 0.3547297418117523\n",
      "Loss: 3505055.5\n",
      "Epoch  2, CIFAR-10 Batch 1:  Validation Accuracy: 0.3513513505458832\n",
      "Loss: 3777202.25\n",
      "Epoch  2, CIFAR-10 Batch 2:  Validation Accuracy: 0.40202704071998596\n",
      "Loss: 2805520.75\n",
      "Epoch  2, CIFAR-10 Batch 3:  Validation Accuracy: 0.40878379344940186\n",
      "Loss: 2371890.25\n",
      "Epoch  2, CIFAR-10 Batch 4:  Validation Accuracy: 0.3885135054588318\n",
      "Loss: 2355086.75\n",
      "Epoch  2, CIFAR-10 Batch 5:  Validation Accuracy: 0.4121621549129486\n",
      "Loss: 2251389.0\n",
      "Epoch  3, CIFAR-10 Batch 1:  Validation Accuracy: 0.3952702581882477\n",
      "Loss: 2534052.5\n",
      "Epoch  3, CIFAR-10 Batch 2:  Validation Accuracy: 0.4425675570964813\n",
      "Loss: 2041466.0\n",
      "Epoch  3, CIFAR-10 Batch 3:  Validation Accuracy: 0.4864864945411682\n",
      "Loss: 1605375.375\n",
      "Epoch  3, CIFAR-10 Batch 4:  Validation Accuracy: 0.4797297418117523\n",
      "Loss: 1662679.375\n",
      "Epoch  3, CIFAR-10 Batch 5:  Validation Accuracy: 0.5135135054588318\n",
      "Loss: 1632156.375\n",
      "Epoch  4, CIFAR-10 Batch 1:  Validation Accuracy: 0.42229729890823364\n",
      "Loss: 1979877.25\n",
      "Epoch  4, CIFAR-10 Batch 2:  Validation Accuracy: 0.4864864945411682\n",
      "Loss: 1660047.375\n",
      "Epoch  4, CIFAR-10 Batch 3:  Validation Accuracy: 0.5270270109176636\n",
      "Loss: 1238417.75\n",
      "Epoch  4, CIFAR-10 Batch 4:  Validation Accuracy: 0.5270270109176636\n",
      "Loss: 1225334.0\n",
      "Epoch  4, CIFAR-10 Batch 5:  Validation Accuracy: 0.537162184715271\n",
      "Loss: 1244058.75\n",
      "Epoch  5, CIFAR-10 Batch 1:  Validation Accuracy: 0.4864864945411682\n",
      "Loss: 1667661.75\n",
      "Epoch  5, CIFAR-10 Batch 2:  Validation Accuracy: 0.5101351141929626\n",
      "Loss: 1465240.375\n",
      "Epoch  5, CIFAR-10 Batch 3:  Validation Accuracy: 0.5709459185600281\n",
      "Loss: 1025845.8125\n",
      "Epoch  5, CIFAR-10 Batch 4:  Validation Accuracy: 0.5743243098258972\n",
      "Loss: 1040287.8125\n",
      "Epoch  5, CIFAR-10 Batch 5:  Validation Accuracy: 0.5709459185600281\n",
      "Loss: 1191902.375\n",
      "Epoch  6, CIFAR-10 Batch 1:  Validation Accuracy: 0.5168918967247009\n",
      "Loss: 1264667.625\n",
      "Epoch  6, CIFAR-10 Batch 2:  Validation Accuracy: 0.5168918967247009\n",
      "Loss: 1210027.0\n",
      "Epoch  6, CIFAR-10 Batch 3:  Validation Accuracy: 0.5675675868988037\n",
      "Loss: 814697.9375\n",
      "Epoch  6, CIFAR-10 Batch 4:  Validation Accuracy: 0.6047297120094299\n",
      "Loss: 953303.375\n",
      "Epoch  6, CIFAR-10 Batch 5:  Validation Accuracy: 0.6148648858070374\n",
      "Loss: 898310.375\n",
      "Epoch  7, CIFAR-10 Batch 1:  Validation Accuracy: 0.5405405163764954\n",
      "Loss: 1093385.125\n",
      "Epoch  7, CIFAR-10 Batch 2:  Validation Accuracy: 0.5743243098258972\n",
      "Loss: 871890.625\n",
      "Epoch  7, CIFAR-10 Batch 3:  Validation Accuracy: 0.6081081032752991\n",
      "Loss: 655747.375\n",
      "Epoch  7, CIFAR-10 Batch 4:  Validation Accuracy: 0.6182432174682617\n",
      "Loss: 754926.4375\n",
      "Epoch  7, CIFAR-10 Batch 5:  Validation Accuracy: 0.625\n",
      "Loss: 736346.9375\n",
      "Epoch  8, CIFAR-10 Batch 1:  Validation Accuracy: 0.5743243098258972\n",
      "Loss: 864175.3125\n",
      "Epoch  8, CIFAR-10 Batch 2:  Validation Accuracy: 0.5945945978164673\n",
      "Loss: 800025.25\n",
      "Epoch  8, CIFAR-10 Batch 3:  Validation Accuracy: 0.5945945978164673\n",
      "Loss: 629018.8125\n",
      "Epoch  8, CIFAR-10 Batch 4:  Validation Accuracy: 0.6081081032752991\n",
      "Loss: 655008.125\n",
      "Epoch  8, CIFAR-10 Batch 5:  Validation Accuracy: 0.6452702879905701\n",
      "Loss: 585146.5\n",
      "Epoch  9, CIFAR-10 Batch 1:  Validation Accuracy: 0.6317567825317383\n",
      "Loss: 731844.0\n",
      "Epoch  9, CIFAR-10 Batch 2:  Validation Accuracy: 0.6182432174682617\n",
      "Loss: 744701.0\n",
      "Epoch  9, CIFAR-10 Batch 3:  Validation Accuracy: 0.6655405163764954\n",
      "Loss: 520702.15625\n",
      "Epoch  9, CIFAR-10 Batch 4:  Validation Accuracy: 0.6081081032752991\n",
      "Loss: 602051.5625\n",
      "Epoch  9, CIFAR-10 Batch 5:  Validation Accuracy: 0.6317567825317383\n",
      "Loss: 577128.625\n",
      "Epoch 10, CIFAR-10 Batch 1:  Validation Accuracy: 0.6385135054588318\n",
      "Loss: 656820.4375\n",
      "Epoch 10, CIFAR-10 Batch 2:  Validation Accuracy: 0.6452702879905701\n",
      "Loss: 601686.1875\n",
      "Epoch 10, CIFAR-10 Batch 3:  Validation Accuracy: 0.6486486196517944\n",
      "Loss: 510221.40625\n",
      "Epoch 10, CIFAR-10 Batch 4:  Validation Accuracy: 0.6993243098258972\n",
      "Loss: 421241.6875\n",
      "Epoch 10, CIFAR-10 Batch 5:  Validation Accuracy: 0.7432432174682617\n",
      "Loss: 373997.71875\n",
      "Epoch 11, CIFAR-10 Batch 1:  Validation Accuracy: 0.6756756901741028\n",
      "Loss: 540935.25\n",
      "Epoch 11, CIFAR-10 Batch 2:  Validation Accuracy: 0.6756756901741028\n",
      "Loss: 513860.0\n",
      "Epoch 11, CIFAR-10 Batch 3:  Validation Accuracy: 0.6959459185600281\n",
      "Loss: 427594.59375\n",
      "Epoch 11, CIFAR-10 Batch 4:  Validation Accuracy: 0.7060810923576355\n",
      "Loss: 450470.46875\n",
      "Epoch 11, CIFAR-10 Batch 5:  Validation Accuracy: 0.6722972989082336\n",
      "Loss: 428741.53125\n",
      "Epoch 12, CIFAR-10 Batch 1:  Validation Accuracy: 0.7094594836235046\n",
      "Loss: 444057.25\n",
      "Epoch 12, CIFAR-10 Batch 2:  Validation Accuracy: 0.6756756901741028\n",
      "Loss: 502104.65625\n",
      "Epoch 12, CIFAR-10 Batch 3:  Validation Accuracy: 0.7533783912658691\n",
      "Loss: 267790.0625\n",
      "Epoch 12, CIFAR-10 Batch 4:  Validation Accuracy: 0.7027027010917664\n",
      "Loss: 376702.84375\n",
      "Epoch 12, CIFAR-10 Batch 5:  Validation Accuracy: 0.6959459185600281\n",
      "Loss: 412718.3125\n",
      "Epoch 13, CIFAR-10 Batch 1:  Validation Accuracy: 0.7027027010917664\n",
      "Loss: 381899.09375\n",
      "Epoch 13, CIFAR-10 Batch 2:  Validation Accuracy: 0.662162184715271\n",
      "Loss: 500473.90625\n",
      "Epoch 13, CIFAR-10 Batch 3:  Validation Accuracy: 0.7972972989082336\n",
      "Loss: 173753.640625\n",
      "Epoch 13, CIFAR-10 Batch 4:  Validation Accuracy: 0.712837815284729\n",
      "Loss: 359603.5\n",
      "Epoch 13, CIFAR-10 Batch 5:  Validation Accuracy: 0.7195945978164673\n",
      "Loss: 361554.125\n",
      "Epoch 14, CIFAR-10 Batch 1:  Validation Accuracy: 0.7736486196517944\n",
      "Loss: 313503.5\n",
      "Epoch 14, CIFAR-10 Batch 2:  Validation Accuracy: 0.712837815284729\n",
      "Loss: 335876.0\n",
      "Epoch 14, CIFAR-10 Batch 3:  Validation Accuracy: 0.7635135054588318\n",
      "Loss: 170560.34375\n",
      "Epoch 14, CIFAR-10 Batch 4:  Validation Accuracy: 0.7770270109176636\n",
      "Loss: 208647.1875\n",
      "Epoch 14, CIFAR-10 Batch 5:  Validation Accuracy: 0.6993243098258972\n",
      "Loss: 352780.90625\n",
      "Epoch 15, CIFAR-10 Batch 1:  Validation Accuracy: 0.75\n",
      "Loss: 305995.5\n",
      "Epoch 15, CIFAR-10 Batch 2:  Validation Accuracy: 0.7027027010917664\n",
      "Loss: 401981.0\n",
      "Epoch 15, CIFAR-10 Batch 3:  Validation Accuracy: 0.7601351141929626\n",
      "Loss: 216723.984375\n",
      "Epoch 15, CIFAR-10 Batch 4:  Validation Accuracy: 0.7635135054588318\n",
      "Loss: 215896.3125\n",
      "Epoch 15, CIFAR-10 Batch 5:  Validation Accuracy: 0.7736486196517944\n",
      "Loss: 224423.84375\n",
      "Epoch 16, CIFAR-10 Batch 1:  Validation Accuracy: 0.712837815284729\n",
      "Loss: 365194.09375\n",
      "Epoch 16, CIFAR-10 Batch 2:  Validation Accuracy: 0.7263513803482056\n",
      "Loss: 345383.46875\n",
      "Epoch 16, CIFAR-10 Batch 3:  Validation Accuracy: 0.7702702879905701\n",
      "Loss: 203582.515625\n",
      "Epoch 16, CIFAR-10 Batch 4:  Validation Accuracy: 0.7736486196517944\n",
      "Loss: 265615.625\n",
      "Epoch 16, CIFAR-10 Batch 5:  Validation Accuracy: 0.8108108043670654\n",
      "Loss: 187538.78125\n",
      "Epoch 17, CIFAR-10 Batch 1:  Validation Accuracy: 0.7229729890823364\n",
      "Loss: 324420.0\n",
      "Epoch 17, CIFAR-10 Batch 2:  Validation Accuracy: 0.712837815284729\n",
      "Loss: 277779.625\n",
      "Epoch 17, CIFAR-10 Batch 3:  Validation Accuracy: 0.8141891956329346\n",
      "Loss: 117515.71875\n",
      "Epoch 17, CIFAR-10 Batch 4:  Validation Accuracy: 0.787162184715271\n",
      "Loss: 188413.109375\n",
      "Epoch 17, CIFAR-10 Batch 5:  Validation Accuracy: 0.8040540814399719\n",
      "Loss: 196071.9375\n",
      "Epoch 18, CIFAR-10 Batch 1:  Validation Accuracy: 0.7702702879905701\n",
      "Loss: 192803.75\n",
      "Epoch 18, CIFAR-10 Batch 2:  Validation Accuracy: 0.7263513803482056\n",
      "Loss: 214709.90625\n",
      "Epoch 18, CIFAR-10 Batch 3:  Validation Accuracy: 0.8547297120094299\n",
      "Loss: 92644.984375\n",
      "Epoch 18, CIFAR-10 Batch 4:  Validation Accuracy: 0.787162184715271\n",
      "Loss: 179888.109375\n",
      "Epoch 18, CIFAR-10 Batch 5:  Validation Accuracy: 0.8074324131011963\n",
      "Loss: 191658.46875\n",
      "Epoch 19, CIFAR-10 Batch 1:  Validation Accuracy: 0.8412162065505981\n",
      "Loss: 130543.21875\n",
      "Epoch 19, CIFAR-10 Batch 2:  Validation Accuracy: 0.8074324131011963\n",
      "Loss: 139654.28125\n",
      "Epoch 19, CIFAR-10 Batch 3:  Validation Accuracy: 0.8682432174682617\n",
      "Loss: 74942.265625\n",
      "Epoch 19, CIFAR-10 Batch 4:  Validation Accuracy: 0.8479729890823364\n",
      "Loss: 128501.0\n",
      "Epoch 19, CIFAR-10 Batch 5:  Validation Accuracy: 0.8648648858070374\n",
      "Loss: 123058.609375\n",
      "Epoch 20, CIFAR-10 Batch 1:  Validation Accuracy: 0.837837815284729\n",
      "Loss: 129467.9765625\n",
      "Epoch 20, CIFAR-10 Batch 2:  Validation Accuracy: 0.8547297120094299\n",
      "Loss: 96573.0078125\n",
      "Epoch 20, CIFAR-10 Batch 3:  Validation Accuracy: 0.8986486196517944\n",
      "Loss: 47379.52734375\n",
      "Epoch 20, CIFAR-10 Batch 4:  Validation Accuracy: 0.8682432174682617\n",
      "Loss: 95425.2265625\n",
      "Epoch 20, CIFAR-10 Batch 5:  Validation Accuracy: 0.8783783912658691\n",
      "Loss: 74762.2734375\n",
      "Epoch 21, CIFAR-10 Batch 1:  Validation Accuracy: 0.8277027010917664\n",
      "Loss: 138816.09375\n",
      "Epoch 21, CIFAR-10 Batch 2:  Validation Accuracy: 0.8344594836235046\n",
      "Loss: 122368.2734375\n",
      "Epoch 21, CIFAR-10 Batch 3:  Validation Accuracy: 0.9087837934494019\n",
      "Loss: 45053.703125\n",
      "Epoch 21, CIFAR-10 Batch 4:  Validation Accuracy: 0.8479729890823364\n",
      "Loss: 94172.7265625\n",
      "Epoch 21, CIFAR-10 Batch 5:  Validation Accuracy: 0.9054054021835327\n",
      "Loss: 60844.48046875\n",
      "Epoch 22, CIFAR-10 Batch 1:  Validation Accuracy: 0.8310810923576355\n",
      "Loss: 102644.4375\n",
      "Epoch 22, CIFAR-10 Batch 2:  Validation Accuracy: 0.7635135054588318\n",
      "Loss: 178421.015625\n",
      "Epoch 22, CIFAR-10 Batch 3:  Validation Accuracy: 0.8783783912658691\n",
      "Loss: 69413.984375\n",
      "Epoch 22, CIFAR-10 Batch 4:  Validation Accuracy: 0.8209459185600281\n",
      "Loss: 132102.765625\n",
      "Epoch 22, CIFAR-10 Batch 5:  Validation Accuracy: 0.8716216087341309\n",
      "Loss: 87709.3828125\n",
      "Epoch 23, CIFAR-10 Batch 1:  Validation Accuracy: 0.8817567825317383\n",
      "Loss: 71290.0\n",
      "Epoch 23, CIFAR-10 Batch 2:  Validation Accuracy: 0.8614864945411682\n",
      "Loss: 90220.2421875\n",
      "Epoch 23, CIFAR-10 Batch 3:  Validation Accuracy: 0.8445945978164673\n",
      "Loss: 119130.2265625\n",
      "Epoch 23, CIFAR-10 Batch 4:  Validation Accuracy: 0.8682432174682617\n",
      "Loss: 77211.59375\n",
      "Epoch 23, CIFAR-10 Batch 5:  Validation Accuracy: 0.8716216087341309\n",
      "Loss: 91909.34375\n",
      "Epoch 24, CIFAR-10 Batch 1:  Validation Accuracy: 0.8175675868988037\n",
      "Loss: 100533.4765625\n",
      "Epoch 24, CIFAR-10 Batch 2:  Validation Accuracy: 0.8040540814399719\n",
      "Loss: 174102.515625\n",
      "Epoch 24, CIFAR-10 Batch 3:  Validation Accuracy: 0.8547297120094299\n",
      "Loss: 83679.3828125\n",
      "Epoch 24, CIFAR-10 Batch 4:  Validation Accuracy: 0.8581081032752991\n",
      "Loss: 103640.4921875\n",
      "Epoch 24, CIFAR-10 Batch 5:  Validation Accuracy: 0.8851351141929626\n",
      "Loss: 72684.328125\n",
      "Epoch 25, CIFAR-10 Batch 1:  Validation Accuracy: 0.8783783912658691\n",
      "Loss: 108831.5390625\n",
      "Epoch 25, CIFAR-10 Batch 2:  Validation Accuracy: 0.8310810923576355\n",
      "Loss: 122263.421875\n",
      "Epoch 25, CIFAR-10 Batch 3:  Validation Accuracy: 0.875\n",
      "Loss: 70438.4296875\n",
      "Epoch 25, CIFAR-10 Batch 4:  Validation Accuracy: 0.9054054021835327\n",
      "Loss: 74146.7734375\n",
      "Epoch 25, CIFAR-10 Batch 5:  Validation Accuracy: 0.8581081032752991\n",
      "Loss: 91809.9140625\n",
      "Epoch 26, CIFAR-10 Batch 1:  Validation Accuracy: 0.8648648858070374\n",
      "Loss: 86442.375\n",
      "Epoch 26, CIFAR-10 Batch 2:  Validation Accuracy: 0.8918918967247009\n",
      "Loss: 73215.0078125\n",
      "Epoch 26, CIFAR-10 Batch 3:  Validation Accuracy: 0.8445945978164673\n",
      "Loss: 116613.2578125\n",
      "Epoch 26, CIFAR-10 Batch 4:  Validation Accuracy: 0.9054054021835327\n",
      "Loss: 50568.76171875\n",
      "Epoch 26, CIFAR-10 Batch 5:  Validation Accuracy: 0.8310810923576355\n",
      "Loss: 99996.625\n",
      "Epoch 27, CIFAR-10 Batch 1:  Validation Accuracy: 0.9087837934494019\n",
      "Loss: 63490.87890625\n",
      "Epoch 27, CIFAR-10 Batch 2:  Validation Accuracy: 0.9020270109176636\n",
      "Loss: 56992.82421875\n",
      "Epoch 27, CIFAR-10 Batch 3:  Validation Accuracy: 0.9054054021835327\n",
      "Loss: 50448.3203125\n",
      "Epoch 27, CIFAR-10 Batch 4:  Validation Accuracy: 0.8885135054588318\n",
      "Loss: 57128.0859375\n",
      "Epoch 27, CIFAR-10 Batch 5:  Validation Accuracy: 0.8581081032752991\n",
      "Loss: 81347.7265625\n",
      "Epoch 28, CIFAR-10 Batch 1:  Validation Accuracy: 0.8783783912658691\n",
      "Loss: 70830.4296875\n",
      "Epoch 28, CIFAR-10 Batch 2:  Validation Accuracy: 0.8716216087341309\n",
      "Loss: 78070.9609375\n",
      "Epoch 28, CIFAR-10 Batch 3:  Validation Accuracy: 0.9493243098258972\n",
      "Loss: 20876.416015625\n",
      "Epoch 28, CIFAR-10 Batch 4:  Validation Accuracy: 0.8682432174682617\n",
      "Loss: 51096.23046875\n",
      "Epoch 28, CIFAR-10 Batch 5:  Validation Accuracy: 0.8783783912658691\n",
      "Loss: 80505.4140625\n",
      "Epoch 29, CIFAR-10 Batch 1:  Validation Accuracy: 0.8547297120094299\n",
      "Loss: 95141.90625\n",
      "Epoch 29, CIFAR-10 Batch 2:  Validation Accuracy: 0.8918918967247009\n",
      "Loss: 54531.90625\n",
      "Epoch 29, CIFAR-10 Batch 3:  Validation Accuracy: 0.9256756901741028\n",
      "Loss: 34359.69140625\n",
      "Epoch 29, CIFAR-10 Batch 4:  Validation Accuracy: 0.9662162065505981\n",
      "Loss: 15699.263671875\n",
      "Epoch 29, CIFAR-10 Batch 5:  Validation Accuracy: 0.9155405163764954\n",
      "Loss: 53607.69140625\n",
      "Epoch 30, CIFAR-10 Batch 1:  Validation Accuracy: 0.8682432174682617\n",
      "Loss: 105897.71875\n",
      "Epoch 30, CIFAR-10 Batch 2:  Validation Accuracy: 0.9391891956329346\n",
      "Loss: 19967.056640625\n",
      "Epoch 30, CIFAR-10 Batch 3:  Validation Accuracy: 0.9155405163764954\n",
      "Loss: 46193.1484375\n",
      "Epoch 30, CIFAR-10 Batch 4:  Validation Accuracy: 0.9256756901741028\n",
      "Loss: 54366.69140625\n",
      "Epoch 30, CIFAR-10 Batch 5:  Validation Accuracy: 0.9459459185600281\n",
      "Loss: 35121.95703125\n"
     ]
    }
   ],
   "source": [
    "\"\"\"\n",
    "DON'T MODIFY ANYTHING IN THIS CELL\n",
    "\"\"\"\n",
    "save_model_path = './image_classification'\n",
    "\n",
    "print('Training...')\n",
    "with tf.Session() as sess:\n",
    "    # Initializing the variables\n",
    "    sess.run(tf.global_variables_initializer())\n",
    "    \n",
    "    # Training cycle\n",
    "    for epoch in range(epochs):\n",
    "        # Loop over all batches\n",
    "        n_batches = 5\n",
    "        for batch_i in range(1, n_batches + 1):\n",
    "            for batch_features, batch_labels in helper.load_preprocess_training_batch(batch_i, batch_size):\n",
    "                train_neural_network(sess, optimizer, keep_probability, batch_features, batch_labels)\n",
    "            print('Epoch {:>2}, CIFAR-10 Batch {}:  '.format(epoch + 1, batch_i), end='')\n",
    "            print_stats(sess, batch_features, batch_labels, cost, accuracy)\n",
    "            \n",
    "    # Save Model\n",
    "    saver = tf.train.Saver()\n",
    "    save_path = saver.save(sess, save_model_path)"
   ]
  },
  {
   "cell_type": "markdown",
   "metadata": {},
   "source": [
    "# Checkpoint\n",
    "The model has been saved to disk.\n",
    "## Test Model\n",
    "Test your model against the test dataset.  This will be your final accuracy. You should have an accuracy greater than 50%. If you don't, keep tweaking the model architecture and parameters."
   ]
  },
  {
   "cell_type": "code",
   "execution_count": 14,
   "metadata": {
    "collapsed": false
   },
   "outputs": [
    {
     "name": "stdout",
     "output_type": "stream",
     "text": [
      "Testing Accuracy: 0.4943933829665184\n",
      "\n"
     ]
    },
    {
     "data": {
      "image/png": "[encoded data removed]",
      "text/plain": [
       "<matplotlib.figure.Figure at 0x7f3168170e80>"
      ]
     },
     "metadata": {
      "image/png": {
       "height": 319,
       "width": 349
      }
     },
     "output_type": "display_data"
    }
   ],
   "source": [
    "\"\"\"\n",
    "DON'T MODIFY ANYTHING IN THIS CELL\n",
    "\"\"\"\n",
    "%matplotlib inline\n",
    "%config InlineBackend.figure_format = 'retina'\n",
    "\n",
    "import tensorflow as tf\n",
    "import pickle\n",
    "import helper\n",
    "import random\n",
    "\n",
    "# Set batch size if not already set\n",
    "try:\n",
    "    if batch_size:\n",
    "        pass\n",
    "except NameError:\n",
    "    batch_size = 64\n",
    "\n",
    "save_model_path = './image_classification'\n",
    "n_samples = 4\n",
    "top_n_predictions = 3\n",
    "\n",
    "def test_model():\n",
    "    \"\"\"\n",
    "    Test the saved model against the test dataset\n",
    "    \"\"\"\n",
    "\n",
    "    test_features, test_labels = pickle.load(open('preprocess_training.p', mode='rb'))\n",
    "    loaded_graph = tf.Graph()\n",
    "\n",
    "    with tf.Session(graph=loaded_graph) as sess:\n",
    "        # Load model\n",
    "        loader = tf.train.import_meta_graph(save_model_path + '.meta')\n",
    "        loader.restore(sess, save_model_path)\n",
    "\n",
    "        # Get Tensors from loaded model\n",
    "        loaded_x = loaded_graph.get_tensor_by_name('x:0')\n",
    "        loaded_y = loaded_graph.get_tensor_by_name('y:0')\n",
    "        loaded_keep_prob = loaded_graph.get_tensor_by_name('keep_prob:0')\n",
    "        loaded_logits = loaded_graph.get_tensor_by_name('logits:0')\n",
    "        loaded_acc = loaded_graph.get_tensor_by_name('accuracy:0')\n",
    "        \n",
    "        # Get accuracy in batches for memory limitations\n",
    "        test_batch_acc_total = 0\n",
    "        test_batch_count = 0\n",
    "        \n",
    "        for train_feature_batch, train_label_batch in helper.batch_features_labels(test_features, test_labels, batch_size):\n",
    "            test_batch_acc_total += sess.run(\n",
    "                loaded_acc,\n",
    "                feed_dict={loaded_x: train_feature_batch, loaded_y: train_label_batch, loaded_keep_prob: 1.0})\n",
    "            test_batch_count += 1\n",
    "\n",
    "        print('Testing Accuracy: {}\\n'.format(test_batch_acc_total/test_batch_count))\n",
    "\n",
    "        # Print Random Samples\n",
    "        random_test_features, random_test_labels = tuple(zip(*random.sample(list(zip(test_features, test_labels)), n_samples)))\n",
    "        random_test_predictions = sess.run(\n",
    "            tf.nn.top_k(tf.nn.softmax(loaded_logits), top_n_predictions),\n",
    "            feed_dict={loaded_x: random_test_features, loaded_y: random_test_labels, loaded_keep_prob: 1.0})\n",
    "        helper.display_image_predictions(random_test_features, random_test_labels, random_test_predictions)\n",
    "\n",
    "\n",
    "test_model()"
   ]
  },
  {
   "cell_type": "markdown",
   "metadata": {},
   "source": [
    "## Why 50-80% Accuracy?\n",
    "You might be wondering why you can't get an accuracy any higher. First things first, 50% isn't bad for a simple CNN.  Pure guessing would get you 10% accuracy. However, you might notice people are getting scores [well above 80%](http://rodrigob.github.io/are_we_there_yet/build/classification_datasets_results.html#43494641522d3130).  That's because we haven't taught you all there is to know about neural networks. We still need to cover a few more techniques.\n",
    "## Submitting This Project\n",
    "When submitting this project, make sure to run all the cells before saving the notebook.  Save the notebook file as \"dlnd_image_classification.ipynb\" and save it as a HTML file under \"File\" -> \"Download as\".  Include the \"helper.py\" and \"problem_unittests.py\" files in your submission."
   ]
  }
 ],
 "metadata": {
  "kernelspec": {
   "display_name": "Python 3",
   "language": "python",
   "name": "python3"
  },
  "language_info": {
   "codemirror_mode": {
    "name": "ipython",
    "version": 3
   },
   "file_extension": ".py",
   "mimetype": "text/x-python",
   "name": "python",
   "nbconvert_exporter": "python",
   "pygments_lexer": "ipython3",
   "version": "3.4.5"
  }
 },
 "nbformat": 4,
 "nbformat_minor": 0
}
